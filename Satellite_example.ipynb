{
  "nbformat": 4,
  "nbformat_minor": 0,
  "metadata": {
    "colab": {
      "name": "Satellite_example",
      "provenance": [],
      "collapsed_sections": [],
      "authorship_tag": "ABX9TyMOLZ6DlOwf8xseCCS+x0f2",
      "include_colab_link": true
    },
    "kernelspec": {
      "name": "python3",
      "display_name": "Python 3"
    },
    "language_info": {
      "name": "python"
    }
  },
  "cells": [
    {
      "cell_type": "markdown",
      "metadata": {
        "id": "view-in-github",
        "colab_type": "text"
      },
      "source": [
        "<a href=\"https://colab.research.google.com/github/NWooster/SatelliteImages/blob/main/Satellite_example.ipynb\" target=\"_parent\"><img src=\"https://colab.research.google.com/assets/colab-badge.svg\" alt=\"Open In Colab\"/></a>"
      ]
    },
    {
      "cell_type": "code",
      "execution_count": 3,
      "metadata": {
        "id": "JN1WiV9Iu80I"
      },
      "outputs": [],
      "source": [
        "# https://www.kaggle.com/code/arpandhatt/satellite-image-classification/notebook\n",
        "\n",
        "import numpy as np\n",
        "import pandas as pd\n",
        "import matplotlib.pyplot as plt\n",
        "from skimage.io import imshow\n",
        "\n",
        "# NN\n",
        "from keras.layers import Dense, Conv2D, MaxPooling2D, Flatten, Dropout\n",
        "from keras.models import Sequential"
      ]
    },
    {
      "cell_type": "code",
      "source": [
        "from google.colab import drive\n",
        "drive.mount('/content/drive')\n",
        "\n",
        "\n",
        "\n"
      ],
      "metadata": {
        "id": "ZVvy0lC26nac",
        "colab": {
          "base_uri": "https://localhost:8080/"
        },
        "outputId": "9dffbb78-1048-430e-8994-b0fba60b38b1"
      },
      "execution_count": 4,
      "outputs": [
        {
          "output_type": "stream",
          "name": "stdout",
          "text": [
            "Drive already mounted at /content/drive; to attempt to forcibly remount, call drive.mount(\"/content/drive\", force_remount=True).\n"
          ]
        }
      ]
    },
    {
      "cell_type": "code",
      "source": [
        "# use the test set as training as the training set was too large\n",
        "x_data_set_fpath = '/content/drive/MyDrive/Colab Notebooks/Satellite_example/Data/Testing/X_test_sat4.csv/X_test_sat4.csv'\n",
        "y_data_set_fpath = '/content/drive/MyDrive/Colab Notebooks/Satellite_example/Data/Testing/y_test_sat4.csv'\n",
        "\n",
        "X_data = pd.read_csv(x_data_set_fpath)\n",
        "Y_data = pd.read_csv(y_data_set_fpath)\n"
      ],
      "metadata": {
        "id": "c2rlvQ1nBthi"
      },
      "execution_count": 5,
      "outputs": []
    },
    {
      "cell_type": "code",
      "source": [
        "# convert pd data frame to numpy array\n",
        "X_data_array = X_data.to_numpy()\n",
        "Y_data_array = Y_data.to_numpy()\n"
      ],
      "metadata": {
        "id": "SRVsHIQADgD3"
      },
      "execution_count": 6,
      "outputs": []
    },
    {
      "cell_type": "code",
      "source": [
        "print ('We have',X_data_array.shape[0],'examples and each example is a list of',X_data_array.shape[1],'numbers with',Y_data_array.shape[1],'possible classifications.')"
      ],
      "metadata": {
        "colab": {
          "base_uri": "https://localhost:8080/"
        },
        "id": "-bKD36qwJiDe",
        "outputId": "68498c1d-14be-4c47-f186-8e54df17f4da"
      },
      "execution_count": 7,
      "outputs": [
        {
          "output_type": "stream",
          "name": "stdout",
          "text": [
            "We have 99999 examples and each example is a list of 3136 numbers with 4 possible classifications.\n"
          ]
        }
      ]
    },
    {
      "cell_type": "code",
      "source": [
        "# reshape list of number array to a each being an image 28x28x4\n",
        "X_data_img = X_data_array.reshape([99999,28,28,4]).astype(float)"
      ],
      "metadata": {
        "id": "840pj-rLJtHr"
      },
      "execution_count": 8,
      "outputs": []
    },
    {
      "cell_type": "code",
      "source": [
        "ix = 3 # type a number between 0 and 99,999 inclusive to select an image\n",
        "image_shown = np.array(X_data_img[ix,:,:,0:3], dtype=np.uint8)\n",
        "\n",
        "# plot image\n",
        "imshow(image_shown) # only seeing the RGB channels\n",
        "plt.show()\n",
        "\n",
        "# tells what the image is using y_data\n",
        "if Y_data_array[ix,0] == 1:\n",
        "    print ('Barren Land')\n",
        "elif Y_data_array[ix,1] == 1:\n",
        "    print ('Trees')\n",
        "elif Y_data_array[ix,2] == 1:\n",
        "    print ('Grassland')\n",
        "else:\n",
        "    print ('Other')"
      ],
      "metadata": {
        "colab": {
          "base_uri": "https://localhost:8080/",
          "height": 314
        },
        "id": "GppTJmYqLCGc",
        "outputId": "6a1e3ae2-1849-4972-e9a4-19509ac50858"
      },
      "execution_count": 9,
      "outputs": [
        {
          "output_type": "display_data",
          "data": {
            "text/plain": [
              "<Figure size 432x288 with 1 Axes>"
            ],
            "image/png": "[encoded data removed]"
          },
          "metadata": {
            "needs_background": "light"
          }
        },
        {
          "output_type": "stream",
          "name": "stdout",
          "text": [
            "Grassland\n"
          ]
        }
      ]
    },
    {
      "cell_type": "code",
      "source": [
        "# use simple NN network\n",
        "model = Sequential([Dense(4, input_shape=(3136,), activation='softmax')])"
      ],
      "metadata": {
        "id": "dyK2z7Co0oQH"
      },
      "execution_count": 10,
      "outputs": []
    },
    {
      "cell_type": "code",
      "source": [
        "# normalise data (simple way)\n",
        "X_data_array = X_data_array/255"
      ],
      "metadata": {
        "id": "bBgqdjzC1NgH"
      },
      "execution_count": 11,
      "outputs": []
    },
    {
      "cell_type": "code",
      "source": [
        "# train model (epochs should be 5)\n",
        "model.compile(optimizer='adam', loss='categorical_crossentropy', metrics=['accuracy'])\n",
        "model.summary()\n",
        "model.fit(X_data_array,Y_data_array,batch_size=32, epochs=1, verbose=1, validation_split=0.01)"
      ],
      "metadata": {
        "colab": {
          "base_uri": "https://localhost:8080/"
        },
        "id": "lc25Lg7Q1cMQ",
        "outputId": "5c47e805-6eba-48ad-b644-0a642a8b6e97"
      },
      "execution_count": 12,
      "outputs": [
        {
          "output_type": "stream",
          "name": "stdout",
          "text": [
            "Model: \"sequential\"\n",
            "_________________________________________________________________\n",
            " Layer (type)                Output Shape              Param #   \n",
            "=================================================================\n",
            " dense (Dense)               (None, 4)                 12548     \n",
            "                                                                 \n",
            "=================================================================\n",
            "Total params: 12,548\n",
            "Trainable params: 12,548\n",
            "Non-trainable params: 0\n",
            "_________________________________________________________________\n",
            "3094/3094 [==============================] - 7s 2ms/step - loss: 0.7580 - accuracy: 0.6858 - val_loss: 0.6513 - val_accuracy: 0.7240\n"
          ]
        },
        {
          "output_type": "execute_result",
          "data": {
            "text/plain": [
              "<keras.callbacks.History at 0x7ff58441a110>"
            ]
          },
          "metadata": {},
          "execution_count": 12
        }
      ]
    },
    {
      "cell_type": "code",
      "source": [
        "# use one of the data used to train to test (very bad!) select last 1000 ones\n",
        "predictions = model.predict(X_data_array[-1000:], verbose=1)"
      ],
      "metadata": {
        "colab": {
          "base_uri": "https://localhost:8080/"
        },
        "id": "_PgXfZp32Owq",
        "outputId": "a595da68-1a70-4f67-b128-aa0a9a787299"
      },
      "execution_count": 24,
      "outputs": [
        {
          "output_type": "stream",
          "name": "stdout",
          "text": [
            "32/32 [==============================] - 0s 1ms/step\n"
          ]
        }
      ]
    },
    {
      "cell_type": "code",
      "source": [
        "ix = 999 # type a number to predict that image\n",
        "image_shown = np.array(X_data_img[99999-(1000-ix),:,:,0:3], dtype=np.uint8)\n",
        "imshow(image_shown) # only seeing the RGB channels\n",
        "plt.show()\n",
        "\n",
        "# predict what the image is\n",
        "print(predictions[ix])\n",
        "print('Prediction:\\n{:.1f}% probability barren land,\\n{:.1f}% probability trees,\\n{:.1f}% probability grassland,\\n{:.1f}% probability other\\n'.format(predictions[ix,0]*100,predictions[ix,1]*100,predictions[ix,2]*100,predictions[ix,3]*100))\n",
        "\n",
        "# print ground truth\n",
        "print ('Ground Truth: ',end='')\n",
        "if Y_data_array[99999-(1000-ix),0] == 1:\n",
        "    print ('Barren Land')\n",
        "elif Y_data_array[99999-(1000-ix),1] == 1:\n",
        "    print ('Trees')\n",
        "elif Y_data_array[99999-(1000-ix),2] == 1:\n",
        "    print ('Grassland')\n",
        "else:\n",
        "    print ('Other')"
      ],
      "metadata": {
        "colab": {
          "base_uri": "https://localhost:8080/",
          "height": 436
        },
        "id": "PGzF_u-34eiB",
        "outputId": "6fa452a5-a9d0-47c2-e5d8-ab458bb1813e"
      },
      "execution_count": 37,
      "outputs": [
        {
          "output_type": "display_data",
          "data": {
            "text/plain": [
              "<Figure size 432x288 with 1 Axes>"
            ],
            "image/png": "[encoded data removed]"
          },
          "metadata": {
            "needs_background": "light"
          }
        },
        {
          "output_type": "stream",
          "name": "stdout",
          "text": [
            "[0.01898813 0.0678055  0.42067716 0.4925291 ]\n",
            "Prediction:\n",
            "1.9% probability barren land,\n",
            "6.8% probability trees,\n",
            "42.1% probability grassland,\n",
            "49.3% probability other\n",
            "\n",
            "Ground Truth: Other\n"
          ]
        }
      ]
    }
  ]
}